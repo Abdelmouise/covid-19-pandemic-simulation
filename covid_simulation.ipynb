{
 "cells": [
  {
   "cell_type": "code",
   "execution_count": 1,
   "metadata": {},
   "outputs": [],
   "source": [
    "import pandas as pd\n",
    "import numpy as np\n",
    "from scipy import spatial\n",
    "import random as rand\n",
    "import matplotlib.pyplot as plt\n",
    "import seaborn as sns\n",
    "from IPython.display import Markdown as md"
   ]
  },
  {
   "cell_type": "code",
   "execution_count": 2,
   "metadata": {},
   "outputs": [],
   "source": [
    "N=1000 # number of people\n",
    "NB_STO_PER_HOU = 20 # Let's say we have 20 houses for each grocerie store\n",
    "PROBA_SAME_HOUSE_RATE = 10/100 # probability used to set the number of person per house\n",
    "PROB_INFECTION_AT_HOME = 0.5 # Probabilty of infecting a random family member (same house)\n",
    "PROB_INFECTION_AT_WORK = 0.1 # Probabilty of infecting a random co-worker\n",
    "PROB_INFECTION_AT_STORE = 0.05 # Probabilty of infecting someone who goes to the same store\n",
    "TPE_MAX_EMPLOYEES = 3\n",
    "PME_MAX_EMPLOYEES = 15\n",
    "GE_MAX_EMPLOYEES = 50\n",
    "DISPLAY = False"
   ]
  },
  {
   "cell_type": "code",
   "execution_count": 3,
   "metadata": {},
   "outputs": [],
   "source": [
    "IMMUNE_STATE = -2\n",
    "HEALTHY_STATE = -1\n",
    "DEAD_STATE = 0"
   ]
  },
  {
   "cell_type": "code",
   "execution_count": null,
   "metadata": {},
   "outputs": [],
   "source": []
  },
  {
   "cell_type": "code",
   "execution_count": 4,
   "metadata": {},
   "outputs": [],
   "source": [
    "flatten = lambda l: [item for sublist in l for item in sublist]"
   ]
  },
  {
   "cell_type": "code",
   "execution_count": 5,
   "metadata": {},
   "outputs": [],
   "source": [
    "def getR():\n",
    "    return rand.random()"
   ]
  },
  {
   "cell_type": "code",
   "execution_count": 6,
   "metadata": {},
   "outputs": [],
   "source": [
    "def getInfectionParameters():\n",
    "    return int(21+ (39-21)*getR()), int(2+ (7-2)*getR()) # Time to death/immunity , Time to contagiosity"
   ]
  },
  {
   "cell_type": "code",
   "execution_count": 7,
   "metadata": {},
   "outputs": [],
   "source": [
    "def updateInfectionPeriod(who_is_infected, incubation_dic, contagion_dic):\n",
    "    for i in who_is_infected:\n",
    "        if incubation_dic[i] == HEALTHY_STATE: # If has never been infected\n",
    "            incubation, contagion = getInfectionParameters()\n",
    "            incubation_dic[i] = incubation\n",
    "            contagion_dic[i] = contagion"
   ]
  },
  {
   "cell_type": "markdown",
   "metadata": {},
   "source": [
    "# We gather a mortality rate by age (ten year increments)"
   ]
  },
  {
   "cell_type": "code",
   "execution_count": 8,
   "metadata": {},
   "outputs": [],
   "source": [
    "# Source : https://www.worldometers.info/coronavirus/coronavirus-age-sex-demographics/\n",
    "mortality_rate = {\n",
    "    8: 0.148, \n",
    "    7: 0.08, \n",
    "    6: 0.036, \n",
    "    5: 0.013, # 50-59 yo => 0.013 probability of dying\n",
    "    4: 0.04, \n",
    "    3: 0.02, \n",
    "    2: 0.02, \n",
    "    1: 0.02, \n",
    "    0: 0\n",
    "}"
   ]
  },
  {
   "cell_type": "code",
   "execution_count": 9,
   "metadata": {},
   "outputs": [],
   "source": [
    "def getMortaltyRate(age):\n",
    "    i = next(x for x in enumerate(list(mortality_rate.keys())) if x[1] <= age/10)\n",
    "    return  mortality_rate[i[1]]"
   ]
  },
  {
   "cell_type": "code",
   "execution_count": null,
   "metadata": {},
   "outputs": [],
   "source": []
  },
  {
   "cell_type": "code",
   "execution_count": null,
   "metadata": {},
   "outputs": [],
   "source": []
  },
  {
   "cell_type": "code",
   "execution_count": 10,
   "metadata": {},
   "outputs": [],
   "source": [
    "def getInfectedPeople(incubation_dic):\n",
    "    return [k for k,v in incubation_dic.items() if v > DEAD_STATE]"
   ]
  },
  {
   "cell_type": "code",
   "execution_count": 11,
   "metadata": {},
   "outputs": [],
   "source": [
    "def getDeadPeople(incubation_dic):\n",
    "    return [k for k,v in incubation_dic.items() if v == DEAD_STATE]"
   ]
  },
  {
   "cell_type": "code",
   "execution_count": 12,
   "metadata": {},
   "outputs": [],
   "source": [
    "def getHealthyPeople(incubation_dic):\n",
    "    return [k for k,v in incubation_dic.items() if v == HEALTHY_STATE]"
   ]
  },
  {
   "cell_type": "code",
   "execution_count": 13,
   "metadata": {},
   "outputs": [],
   "source": [
    "def getImmunePeople(incubation_dic):\n",
    "    return [k for k,v in incubation_dic.items() if v == IMMUNE_STATE]"
   ]
  },
  {
   "cell_type": "code",
   "execution_count": 14,
   "metadata": {},
   "outputs": [],
   "source": [
    "def incrementInfectionDay(incubation_dic, age_dic, contagion_dic):\n",
    "    for i in getInfectedPeople(incubation_dic):\n",
    "        contagion_dic[i] = contagion_dic[i] -1\n",
    "        if incubation_dic[i] > DEAD_STATE + 1:\n",
    "            incubation_dic[i] = incubation_dic[i] -1\n",
    "        if incubation_dic[i] == DEAD_STATE + 1: # Decide over life\n",
    "            if getR() < getMortaltyRate(age_dic[i]):\n",
    "                incubation_dic[i] = 0\n",
    "            else:\n",
    "                incubation_dic[i] = -2 # Grant immunity"
   ]
  },
  {
   "cell_type": "code",
   "execution_count": 15,
   "metadata": {},
   "outputs": [],
   "source": [
    "def isContagious(ind, contagion_dic):\n",
    "    return contagion_dic[ind] < 0"
   ]
  },
  {
   "cell_type": "markdown",
   "metadata": {},
   "source": [
    "# We will try to avoid O(n²) as much as possible, ideally O(n.log(n))"
   ]
  },
  {
   "cell_type": "code",
   "execution_count": null,
   "metadata": {},
   "outputs": [],
   "source": []
  },
  {
   "cell_type": "markdown",
   "metadata": {},
   "source": [
    "# Let's build a probability function to assign a coherent age to each individual"
   ]
  },
  {
   "cell_type": "code",
   "execution_count": 16,
   "metadata": {},
   "outputs": [],
   "source": [
    "# Source https://www.populationpyramid.net/world/2019/\n",
    "age_distribution = pd.DataFrame([\n",
    "    [\"0-4\",349247348,328119059], \n",
    "    [\"5-9\",341670620,320090537],\n",
    "    [\"10-14\",328942130,307203261], \n",
    "    [\"15-19\",314806147,293931999], \n",
    "    [\"20-24\",307809031,288834393], \n",
    "    [\"25-29\",307548367,290783757], \n",
    "    [\"30-34\",305762271,293702434], \n",
    "    [\"35-39\",270507560,262936512], \n",
    "    [\"40-44\",247594384,242696599], \n",
    "    [\"45-49\",239897308,237022350], \n",
    "    [\"50-54\",218833001,219504648], \n",
    "    [\"55-59\",187135108,190624979], \n",
    "    [\"60-64\",153758680,161570707], \n",
    "    [\"65-69\",124471230,136004171], \n",
    "    [\"70-74\",82793263,96515002], \n",
    "    [\"75-79\",53073892,66973202], \n",
    "    [\"80-84\",33071682,47305811], \n",
    "    [\"85-89\",15423679,25733670], \n",
    "    [\"90-94\",5370654,11222622], \n",
    "    [\"95-99\",1203726,3239297], \n",
    "    [\"100-125\",114528,418582]], columns=['age', 'nb_men', 'nb_women'])\n",
    "age_distribution['nb'] = age_distribution['nb_men'] + age_distribution['nb_women']\n",
    "age_distribution['pct'] = age_distribution['nb'] / age_distribution['nb'].sum()\n",
    "age_distribution['min_age'] = age_distribution['age'].map(lambda s:int(s.split('-')[0]))\n",
    "age_distribution['max_age'] = age_distribution['age'].map(lambda s:int(s.split('-')[1]))"
   ]
  },
  {
   "cell_type": "code",
   "execution_count": null,
   "metadata": {},
   "outputs": [],
   "source": []
  },
  {
   "cell_type": "code",
   "execution_count": null,
   "metadata": {},
   "outputs": [],
   "source": []
  },
  {
   "cell_type": "markdown",
   "metadata": {},
   "source": [
    "# We need to separate adults and children"
   ]
  },
  {
   "cell_type": "code",
   "execution_count": 17,
   "metadata": {},
   "outputs": [],
   "source": [
    "# We did a cut to 25 years old for adult\n",
    "age_distribution_children = age_distribution.iloc[:7]\n",
    "age_distribution_adults = age_distribution.iloc[4:]"
   ]
  },
  {
   "cell_type": "code",
   "execution_count": 18,
   "metadata": {},
   "outputs": [
    {
     "data": {
      "text/html": [
       "<div>\n",
       "<style scoped>\n",
       "    .dataframe tbody tr th:only-of-type {\n",
       "        vertical-align: middle;\n",
       "    }\n",
       "\n",
       "    .dataframe tbody tr th {\n",
       "        vertical-align: top;\n",
       "    }\n",
       "\n",
       "    .dataframe thead th {\n",
       "        text-align: right;\n",
       "    }\n",
       "</style>\n",
       "<table border=\"1\" class=\"dataframe\">\n",
       "  <thead>\n",
       "    <tr style=\"text-align: right;\">\n",
       "      <th></th>\n",
       "      <th>age</th>\n",
       "      <th>nb_men</th>\n",
       "      <th>nb_women</th>\n",
       "      <th>nb</th>\n",
       "      <th>pct</th>\n",
       "      <th>min_age</th>\n",
       "      <th>max_age</th>\n",
       "    </tr>\n",
       "  </thead>\n",
       "  <tbody>\n",
       "    <tr>\n",
       "      <th>0</th>\n",
       "      <td>0-4</td>\n",
       "      <td>349247348</td>\n",
       "      <td>328119059</td>\n",
       "      <td>677366407</td>\n",
       "      <td>0.087816</td>\n",
       "      <td>0</td>\n",
       "      <td>4</td>\n",
       "    </tr>\n",
       "    <tr>\n",
       "      <th>1</th>\n",
       "      <td>5-9</td>\n",
       "      <td>341670620</td>\n",
       "      <td>320090537</td>\n",
       "      <td>661761157</td>\n",
       "      <td>0.085793</td>\n",
       "      <td>5</td>\n",
       "      <td>9</td>\n",
       "    </tr>\n",
       "    <tr>\n",
       "      <th>2</th>\n",
       "      <td>10-14</td>\n",
       "      <td>328942130</td>\n",
       "      <td>307203261</td>\n",
       "      <td>636145391</td>\n",
       "      <td>0.082472</td>\n",
       "      <td>10</td>\n",
       "      <td>14</td>\n",
       "    </tr>\n",
       "    <tr>\n",
       "      <th>3</th>\n",
       "      <td>15-19</td>\n",
       "      <td>314806147</td>\n",
       "      <td>293931999</td>\n",
       "      <td>608738146</td>\n",
       "      <td>0.078919</td>\n",
       "      <td>15</td>\n",
       "      <td>19</td>\n",
       "    </tr>\n",
       "    <tr>\n",
       "      <th>4</th>\n",
       "      <td>20-24</td>\n",
       "      <td>307809031</td>\n",
       "      <td>288834393</td>\n",
       "      <td>596643424</td>\n",
       "      <td>0.077351</td>\n",
       "      <td>20</td>\n",
       "      <td>24</td>\n",
       "    </tr>\n",
       "    <tr>\n",
       "      <th>5</th>\n",
       "      <td>25-29</td>\n",
       "      <td>307548367</td>\n",
       "      <td>290783757</td>\n",
       "      <td>598332124</td>\n",
       "      <td>0.077570</td>\n",
       "      <td>25</td>\n",
       "      <td>29</td>\n",
       "    </tr>\n",
       "    <tr>\n",
       "      <th>6</th>\n",
       "      <td>30-34</td>\n",
       "      <td>305762271</td>\n",
       "      <td>293702434</td>\n",
       "      <td>599464705</td>\n",
       "      <td>0.077717</td>\n",
       "      <td>30</td>\n",
       "      <td>34</td>\n",
       "    </tr>\n",
       "  </tbody>\n",
       "</table>\n",
       "</div>"
      ],
      "text/plain": [
       "     age     nb_men   nb_women         nb       pct  min_age  max_age\n",
       "0    0-4  349247348  328119059  677366407  0.087816        0        4\n",
       "1    5-9  341670620  320090537  661761157  0.085793        5        9\n",
       "2  10-14  328942130  307203261  636145391  0.082472       10       14\n",
       "3  15-19  314806147  293931999  608738146  0.078919       15       19\n",
       "4  20-24  307809031  288834393  596643424  0.077351       20       24\n",
       "5  25-29  307548367  290783757  598332124  0.077570       25       29\n",
       "6  30-34  305762271  293702434  599464705  0.077717       30       34"
      ]
     },
     "execution_count": 18,
     "metadata": {},
     "output_type": "execute_result"
    }
   ],
   "source": [
    "age_distribution_children"
   ]
  },
  {
   "cell_type": "code",
   "execution_count": 19,
   "metadata": {},
   "outputs": [
    {
     "data": {
      "text/html": [
       "<div>\n",
       "<style scoped>\n",
       "    .dataframe tbody tr th:only-of-type {\n",
       "        vertical-align: middle;\n",
       "    }\n",
       "\n",
       "    .dataframe tbody tr th {\n",
       "        vertical-align: top;\n",
       "    }\n",
       "\n",
       "    .dataframe thead th {\n",
       "        text-align: right;\n",
       "    }\n",
       "</style>\n",
       "<table border=\"1\" class=\"dataframe\">\n",
       "  <thead>\n",
       "    <tr style=\"text-align: right;\">\n",
       "      <th></th>\n",
       "      <th>age</th>\n",
       "      <th>nb_men</th>\n",
       "      <th>nb_women</th>\n",
       "      <th>nb</th>\n",
       "      <th>pct</th>\n",
       "      <th>min_age</th>\n",
       "      <th>max_age</th>\n",
       "    </tr>\n",
       "  </thead>\n",
       "  <tbody>\n",
       "    <tr>\n",
       "      <th>4</th>\n",
       "      <td>20-24</td>\n",
       "      <td>307809031</td>\n",
       "      <td>288834393</td>\n",
       "      <td>596643424</td>\n",
       "      <td>0.077351</td>\n",
       "      <td>20</td>\n",
       "      <td>24</td>\n",
       "    </tr>\n",
       "    <tr>\n",
       "      <th>5</th>\n",
       "      <td>25-29</td>\n",
       "      <td>307548367</td>\n",
       "      <td>290783757</td>\n",
       "      <td>598332124</td>\n",
       "      <td>0.077570</td>\n",
       "      <td>25</td>\n",
       "      <td>29</td>\n",
       "    </tr>\n",
       "    <tr>\n",
       "      <th>6</th>\n",
       "      <td>30-34</td>\n",
       "      <td>305762271</td>\n",
       "      <td>293702434</td>\n",
       "      <td>599464705</td>\n",
       "      <td>0.077717</td>\n",
       "      <td>30</td>\n",
       "      <td>34</td>\n",
       "    </tr>\n",
       "    <tr>\n",
       "      <th>7</th>\n",
       "      <td>35-39</td>\n",
       "      <td>270507560</td>\n",
       "      <td>262936512</td>\n",
       "      <td>533444072</td>\n",
       "      <td>0.069157</td>\n",
       "      <td>35</td>\n",
       "      <td>39</td>\n",
       "    </tr>\n",
       "    <tr>\n",
       "      <th>8</th>\n",
       "      <td>40-44</td>\n",
       "      <td>247594384</td>\n",
       "      <td>242696599</td>\n",
       "      <td>490290983</td>\n",
       "      <td>0.063563</td>\n",
       "      <td>40</td>\n",
       "      <td>44</td>\n",
       "    </tr>\n",
       "    <tr>\n",
       "      <th>9</th>\n",
       "      <td>45-49</td>\n",
       "      <td>239897308</td>\n",
       "      <td>237022350</td>\n",
       "      <td>476919658</td>\n",
       "      <td>0.061829</td>\n",
       "      <td>45</td>\n",
       "      <td>49</td>\n",
       "    </tr>\n",
       "    <tr>\n",
       "      <th>10</th>\n",
       "      <td>50-54</td>\n",
       "      <td>218833001</td>\n",
       "      <td>219504648</td>\n",
       "      <td>438337649</td>\n",
       "      <td>0.056828</td>\n",
       "      <td>50</td>\n",
       "      <td>54</td>\n",
       "    </tr>\n",
       "    <tr>\n",
       "      <th>11</th>\n",
       "      <td>55-59</td>\n",
       "      <td>187135108</td>\n",
       "      <td>190624979</td>\n",
       "      <td>377760087</td>\n",
       "      <td>0.048974</td>\n",
       "      <td>55</td>\n",
       "      <td>59</td>\n",
       "    </tr>\n",
       "    <tr>\n",
       "      <th>12</th>\n",
       "      <td>60-64</td>\n",
       "      <td>153758680</td>\n",
       "      <td>161570707</td>\n",
       "      <td>315329387</td>\n",
       "      <td>0.040880</td>\n",
       "      <td>60</td>\n",
       "      <td>64</td>\n",
       "    </tr>\n",
       "    <tr>\n",
       "      <th>13</th>\n",
       "      <td>65-69</td>\n",
       "      <td>124471230</td>\n",
       "      <td>136004171</td>\n",
       "      <td>260475401</td>\n",
       "      <td>0.033769</td>\n",
       "      <td>65</td>\n",
       "      <td>69</td>\n",
       "    </tr>\n",
       "    <tr>\n",
       "      <th>14</th>\n",
       "      <td>70-74</td>\n",
       "      <td>82793263</td>\n",
       "      <td>96515002</td>\n",
       "      <td>179308265</td>\n",
       "      <td>0.023246</td>\n",
       "      <td>70</td>\n",
       "      <td>74</td>\n",
       "    </tr>\n",
       "    <tr>\n",
       "      <th>15</th>\n",
       "      <td>75-79</td>\n",
       "      <td>53073892</td>\n",
       "      <td>66973202</td>\n",
       "      <td>120047094</td>\n",
       "      <td>0.015563</td>\n",
       "      <td>75</td>\n",
       "      <td>79</td>\n",
       "    </tr>\n",
       "    <tr>\n",
       "      <th>16</th>\n",
       "      <td>80-84</td>\n",
       "      <td>33071682</td>\n",
       "      <td>47305811</td>\n",
       "      <td>80377493</td>\n",
       "      <td>0.010420</td>\n",
       "      <td>80</td>\n",
       "      <td>84</td>\n",
       "    </tr>\n",
       "    <tr>\n",
       "      <th>17</th>\n",
       "      <td>85-89</td>\n",
       "      <td>15423679</td>\n",
       "      <td>25733670</td>\n",
       "      <td>41157349</td>\n",
       "      <td>0.005336</td>\n",
       "      <td>85</td>\n",
       "      <td>89</td>\n",
       "    </tr>\n",
       "    <tr>\n",
       "      <th>18</th>\n",
       "      <td>90-94</td>\n",
       "      <td>5370654</td>\n",
       "      <td>11222622</td>\n",
       "      <td>16593276</td>\n",
       "      <td>0.002151</td>\n",
       "      <td>90</td>\n",
       "      <td>94</td>\n",
       "    </tr>\n",
       "    <tr>\n",
       "      <th>19</th>\n",
       "      <td>95-99</td>\n",
       "      <td>1203726</td>\n",
       "      <td>3239297</td>\n",
       "      <td>4443023</td>\n",
       "      <td>0.000576</td>\n",
       "      <td>95</td>\n",
       "      <td>99</td>\n",
       "    </tr>\n",
       "    <tr>\n",
       "      <th>20</th>\n",
       "      <td>100-125</td>\n",
       "      <td>114528</td>\n",
       "      <td>418582</td>\n",
       "      <td>533110</td>\n",
       "      <td>0.000069</td>\n",
       "      <td>100</td>\n",
       "      <td>125</td>\n",
       "    </tr>\n",
       "  </tbody>\n",
       "</table>\n",
       "</div>"
      ],
      "text/plain": [
       "        age     nb_men   nb_women         nb       pct  min_age  max_age\n",
       "4     20-24  307809031  288834393  596643424  0.077351       20       24\n",
       "5     25-29  307548367  290783757  598332124  0.077570       25       29\n",
       "6     30-34  305762271  293702434  599464705  0.077717       30       34\n",
       "7     35-39  270507560  262936512  533444072  0.069157       35       39\n",
       "8     40-44  247594384  242696599  490290983  0.063563       40       44\n",
       "9     45-49  239897308  237022350  476919658  0.061829       45       49\n",
       "10    50-54  218833001  219504648  438337649  0.056828       50       54\n",
       "11    55-59  187135108  190624979  377760087  0.048974       55       59\n",
       "12    60-64  153758680  161570707  315329387  0.040880       60       64\n",
       "13    65-69  124471230  136004171  260475401  0.033769       65       69\n",
       "14    70-74   82793263   96515002  179308265  0.023246       70       74\n",
       "15    75-79   53073892   66973202  120047094  0.015563       75       79\n",
       "16    80-84   33071682   47305811   80377493  0.010420       80       84\n",
       "17    85-89   15423679   25733670   41157349  0.005336       85       89\n",
       "18    90-94    5370654   11222622   16593276  0.002151       90       94\n",
       "19    95-99    1203726    3239297    4443023  0.000576       95       99\n",
       "20  100-125     114528     418582     533110  0.000069      100      125"
      ]
     },
     "execution_count": 19,
     "metadata": {},
     "output_type": "execute_result"
    }
   ],
   "source": [
    "age_distribution_adults"
   ]
  },
  {
   "cell_type": "markdown",
   "metadata": {},
   "source": [
    "#  Build cumulative distribution for age repartition"
   ]
  },
  {
   "cell_type": "markdown",
   "metadata": {},
   "source": [
    "### It will be used after house allocation"
   ]
  },
  {
   "cell_type": "code",
   "execution_count": 20,
   "metadata": {},
   "outputs": [],
   "source": [
    "age_distribution_children_cumsum = \\\n",
    "    age_distribution_children['pct'].cumsum() / age_distribution_children['pct'].cumsum().max()\n",
    "age_distribution_adults_cumsum = \\\n",
    "    age_distribution_adults['pct'].cumsum() / age_distribution_adults['pct'].cumsum().max()"
   ]
  },
  {
   "cell_type": "code",
   "execution_count": null,
   "metadata": {},
   "outputs": [],
   "source": []
  },
  {
   "cell_type": "code",
   "execution_count": 21,
   "metadata": {},
   "outputs": [
    {
     "data": {
      "text/plain": [
       "0    0.154705\n",
       "1    0.305845\n",
       "2    0.451135\n",
       "3    0.590166\n",
       "4    0.726434\n",
       "5    0.863088\n",
       "6    1.000000\n",
       "Name: pct, dtype: float64"
      ]
     },
     "execution_count": 21,
     "metadata": {},
     "output_type": "execute_result"
    }
   ],
   "source": [
    "age_distribution_children_cumsum"
   ]
  },
  {
   "cell_type": "code",
   "execution_count": 22,
   "metadata": {},
   "outputs": [
    {
     "data": {
      "text/plain": [
       "4     0.116317\n",
       "5     0.232963\n",
       "6     0.349830\n",
       "7     0.453827\n",
       "8     0.549410\n",
       "9     0.642387\n",
       "10    0.727842\n",
       "11    0.801487\n",
       "12    0.862961\n",
       "13    0.913741\n",
       "14    0.948698\n",
       "15    0.972101\n",
       "16    0.987771\n",
       "17    0.995795\n",
       "18    0.999030\n",
       "19    0.999896\n",
       "20    1.000000\n",
       "Name: pct, dtype: float64"
      ]
     },
     "execution_count": 22,
     "metadata": {},
     "output_type": "execute_result"
    }
   ],
   "source": [
    "age_distribution_adults_cumsum"
   ]
  },
  {
   "cell_type": "markdown",
   "metadata": {},
   "source": [
    "### This function is used to attribute an age given the range of our age data and the cumulative distribution"
   ]
  },
  {
   "cell_type": "code",
   "execution_count": 23,
   "metadata": {},
   "outputs": [],
   "source": [
    "def getAge(isChild):\n",
    "    if isChild:\n",
    "        l_cs = age_distribution_children_cumsum\n",
    "        l_dis = age_distribution_children\n",
    "    else:\n",
    "        l_cs = age_distribution_adults_cumsum\n",
    "        l_dis = age_distribution_adults\n",
    "    i = next(x[0] for x in enumerate(l_cs.values) if x[1] > getR())\n",
    "    min_age_i = l_dis.iloc[i]['min_age']\n",
    "    max_age_i = l_dis.iloc[i]['max_age']\n",
    "    return int(min_age_i + (max_age_i-min_age_i)*getR())"
   ]
  },
  {
   "cell_type": "code",
   "execution_count": null,
   "metadata": {},
   "outputs": [],
   "source": []
  },
  {
   "cell_type": "markdown",
   "metadata": {},
   "source": [
    "### We need to allocate individuals to houses"
   ]
  },
  {
   "cell_type": "code",
   "execution_count": 24,
   "metadata": {},
   "outputs": [],
   "source": [
    "# Individual -> House\n",
    "all_ind_hou = {}\n",
    "i_hou = 0\n",
    "i_ind = 0\n",
    "is_first_person = True\n",
    "prob_keep_hou = getR()\n",
    "while i_ind < N :\n",
    "    if is_first_person:\n",
    "        all_ind_hou[i_ind] = i_hou # Attach first person to the house\n",
    "        i_ind = i_ind + 1 # GOTO next person\n",
    "        is_first_person = False\n",
    "        continue\n",
    "    if prob_keep_hou > PROBA_SAME_HOUSE_RATE:\n",
    "        all_ind_hou[i_ind] = i_hou # Attach Next person\n",
    "        i_ind = i_ind + 1 # GOTO next person\n",
    "        prob_keep_hou = prob_keep_hou / 2 # Divide probability keep_foy\n",
    "    else:\n",
    "        i_hou = i_hou + 1 # GOTO next house\n",
    "        prob_keep_hou = getR() # RESET keep_hou probability\n",
    "        is_first_person = True # New house needs a first person"
   ]
  },
  {
   "cell_type": "code",
   "execution_count": 25,
   "metadata": {},
   "outputs": [
    {
     "data": {
      "text/plain": [
       "(999, 286)"
      ]
     },
     "execution_count": 25,
     "metadata": {},
     "output_type": "execute_result"
    }
   ],
   "source": [
    "max(all_ind_hou.keys()), max(all_ind_hou.values())"
   ]
  },
  {
   "cell_type": "markdown",
   "metadata": {},
   "source": [
    "### And in a similar manner, we will allocate a list of people for each house (it will be handy)"
   ]
  },
  {
   "cell_type": "code",
   "execution_count": 26,
   "metadata": {},
   "outputs": [],
   "source": [
    "# House -> List of individuals\n",
    "all_hou_ind = {}\n",
    "for k, v in all_ind_hou.items():\n",
    "    all_hou_ind[v] = all_hou_ind.get(v, [])\n",
    "    all_hou_ind[v].append(k)"
   ]
  },
  {
   "cell_type": "markdown",
   "metadata": {},
   "source": [
    "### The number of houses is then set when all individuals have a home"
   ]
  },
  {
   "cell_type": "code",
   "execution_count": 27,
   "metadata": {},
   "outputs": [],
   "source": [
    "N_hou = i_hou+1 # Set the number of houses\n",
    "N_sto = int(N_hou/NB_STO_PER_HOU) # Set the number of stores"
   ]
  },
  {
   "cell_type": "code",
   "execution_count": 28,
   "metadata": {},
   "outputs": [
    {
     "data": {
      "text/markdown": [
       "There are 3.48 individuals per house for a total of 287 houses"
      ],
      "text/plain": [
       "<IPython.core.display.Markdown object>"
      ]
     },
     "execution_count": 28,
     "metadata": {},
     "output_type": "execute_result"
    }
   ],
   "source": [
    "md(\"There are %.2f individuals per house for a total of %d houses\"%(\n",
    "    pd.Series(all_ind_hou).value_counts().mean(), N_hou))"
   ]
  },
  {
   "cell_type": "code",
   "execution_count": null,
   "metadata": {},
   "outputs": [],
   "source": []
  },
  {
   "cell_type": "markdown",
   "metadata": {},
   "source": [
    "# Let's allocate an age to each individual"
   ]
  },
  {
   "cell_type": "markdown",
   "metadata": {},
   "source": [
    "### At least one adult per house, and children start when at least 3 persons in a house"
   ]
  },
  {
   "cell_type": "code",
   "execution_count": 29,
   "metadata": {},
   "outputs": [],
   "source": [
    "all_ind_adu = {} # We track who is adult to further affect a work\n",
    "all_ind_age = {}\n",
    "all_ind_age[0] = getAge(isChild=False)\n",
    "all_ind_adu[0] = 1\n",
    "incr_ind = 1\n",
    "i_ind = 1\n",
    "while i_ind < N:\n",
    "    if all_ind_hou[i_ind] != all_ind_hou[i_ind-1]: # We have a new house\n",
    "        incr_ind = 0\n",
    "    if incr_ind < 2 :\n",
    "        all_ind_age[i_ind] = getAge(isChild=False)\n",
    "        all_ind_adu[i_ind] = 1\n",
    "    else :\n",
    "        all_ind_age[i_ind] = getAge(isChild=True)\n",
    "        all_ind_adu[i_ind] = 0\n",
    "    incr_ind = incr_ind + 1 \n",
    "    i_ind = i_ind+1"
   ]
  },
  {
   "cell_type": "markdown",
   "metadata": {},
   "source": [
    "### Using the adult dictionnary, we can build a house -> adult map"
   ]
  },
  {
   "cell_type": "code",
   "execution_count": 30,
   "metadata": {},
   "outputs": [],
   "source": [
    "# House -> List of adults (needed to check you goes to the store)\n",
    "all_hou_adu = {}\n",
    "for k, v in all_ind_hou.items():\n",
    "    all_hou_adu[v] = [i for i in all_hou_adu.get(v, []) if all_ind_adu[i]==1]\n",
    "    all_hou_adu[v].append(k)"
   ]
  },
  {
   "cell_type": "code",
   "execution_count": null,
   "metadata": {},
   "outputs": [],
   "source": []
  },
  {
   "cell_type": "markdown",
   "metadata": {},
   "source": [
    "### Let's check the result on the first few houses"
   ]
  },
  {
   "cell_type": "code",
   "execution_count": 31,
   "metadata": {},
   "outputs": [
    {
     "data": {
      "text/html": [
       "<div>\n",
       "<style scoped>\n",
       "    .dataframe tbody tr th:only-of-type {\n",
       "        vertical-align: middle;\n",
       "    }\n",
       "\n",
       "    .dataframe tbody tr th {\n",
       "        vertical-align: top;\n",
       "    }\n",
       "\n",
       "    .dataframe thead th {\n",
       "        text-align: right;\n",
       "    }\n",
       "</style>\n",
       "<table border=\"1\" class=\"dataframe\">\n",
       "  <thead>\n",
       "    <tr style=\"text-align: right;\">\n",
       "      <th></th>\n",
       "      <th>age</th>\n",
       "      <th>house_index</th>\n",
       "    </tr>\n",
       "  </thead>\n",
       "  <tbody>\n",
       "    <tr>\n",
       "      <th>0</th>\n",
       "      <td>36</td>\n",
       "      <td>0</td>\n",
       "    </tr>\n",
       "    <tr>\n",
       "      <th>1</th>\n",
       "      <td>41</td>\n",
       "      <td>0</td>\n",
       "    </tr>\n",
       "    <tr>\n",
       "      <th>2</th>\n",
       "      <td>2</td>\n",
       "      <td>0</td>\n",
       "    </tr>\n",
       "    <tr>\n",
       "      <th>3</th>\n",
       "      <td>18</td>\n",
       "      <td>0</td>\n",
       "    </tr>\n",
       "    <tr>\n",
       "      <th>4</th>\n",
       "      <td>31</td>\n",
       "      <td>1</td>\n",
       "    </tr>\n",
       "    <tr>\n",
       "      <th>5</th>\n",
       "      <td>41</td>\n",
       "      <td>1</td>\n",
       "    </tr>\n",
       "    <tr>\n",
       "      <th>6</th>\n",
       "      <td>5</td>\n",
       "      <td>1</td>\n",
       "    </tr>\n",
       "    <tr>\n",
       "      <th>7</th>\n",
       "      <td>38</td>\n",
       "      <td>2</td>\n",
       "    </tr>\n",
       "    <tr>\n",
       "      <th>8</th>\n",
       "      <td>43</td>\n",
       "      <td>2</td>\n",
       "    </tr>\n",
       "    <tr>\n",
       "      <th>9</th>\n",
       "      <td>1</td>\n",
       "      <td>2</td>\n",
       "    </tr>\n",
       "    <tr>\n",
       "      <th>10</th>\n",
       "      <td>20</td>\n",
       "      <td>2</td>\n",
       "    </tr>\n",
       "    <tr>\n",
       "      <th>11</th>\n",
       "      <td>2</td>\n",
       "      <td>2</td>\n",
       "    </tr>\n",
       "    <tr>\n",
       "      <th>12</th>\n",
       "      <td>32</td>\n",
       "      <td>3</td>\n",
       "    </tr>\n",
       "    <tr>\n",
       "      <th>13</th>\n",
       "      <td>26</td>\n",
       "      <td>3</td>\n",
       "    </tr>\n",
       "    <tr>\n",
       "      <th>14</th>\n",
       "      <td>3</td>\n",
       "      <td>3</td>\n",
       "    </tr>\n",
       "  </tbody>\n",
       "</table>\n",
       "</div>"
      ],
      "text/plain": [
       "    age  house_index\n",
       "0    36            0\n",
       "1    41            0\n",
       "2     2            0\n",
       "3    18            0\n",
       "4    31            1\n",
       "5    41            1\n",
       "6     5            1\n",
       "7    38            2\n",
       "8    43            2\n",
       "9     1            2\n",
       "10   20            2\n",
       "11    2            2\n",
       "12   32            3\n",
       "13   26            3\n",
       "14    3            3"
      ]
     },
     "execution_count": 31,
     "metadata": {},
     "output_type": "execute_result"
    }
   ],
   "source": [
    "pd.concat([pd.DataFrame(all_ind_age.values(), columns=['age']), \n",
    "           pd.DataFrame(all_ind_hou.values(), columns=['house_index'])], axis=1).head(15)"
   ]
  },
  {
   "cell_type": "code",
   "execution_count": null,
   "metadata": {},
   "outputs": [],
   "source": []
  },
  {
   "cell_type": "markdown",
   "metadata": {},
   "source": [
    "### There are for sure side effects in the way I allocated age but its distribution still looks nice :)"
   ]
  },
  {
   "cell_type": "code",
   "execution_count": 32,
   "metadata": {},
   "outputs": [
    {
     "data": {
      "text/plain": [
       "Text(0, 0.5, 'Number of individuals')"
      ]
     },
     "execution_count": 32,
     "metadata": {},
     "output_type": "execute_result"
    },
    {
     "data": {
      "image/png": "[encoded data removed]",
      "text/plain": [
       "<Figure size 432x288 with 1 Axes>"
      ]
     },
     "metadata": {
      "needs_background": "light"
     },
     "output_type": "display_data"
    }
   ],
   "source": [
    "# seaborn histogram\n",
    "sns.distplot(list(all_ind_age.values()), hist=True, kde=False, \n",
    "             bins=15, color = 'blue',\n",
    "             hist_kws={'edgecolor':'black'})\n",
    "# Add labels\n",
    "plt.title('Age distribution')\n",
    "plt.xlabel('Age bin')\n",
    "plt.ylabel('Number of individuals')"
   ]
  },
  {
   "cell_type": "code",
   "execution_count": null,
   "metadata": {},
   "outputs": [],
   "source": []
  },
  {
   "cell_type": "markdown",
   "metadata": {},
   "source": [
    "### We set a geolocation point for every house and grocerie store"
   ]
  },
  {
   "cell_type": "code",
   "execution_count": 33,
   "metadata": {},
   "outputs": [],
   "source": [
    "def getR2():\n",
    "    u = getR()\n",
    "    return 4*(u-0.5)*(u-0.5)*(u-0.5)+0.5"
   ]
  },
  {
   "cell_type": "code",
   "execution_count": 34,
   "metadata": {},
   "outputs": [],
   "source": [
    "geo_hou = [ (getR(), getR()) for i in range(N_hou)]\n",
    "geo_sto = [ (getR(), getR()) for i in range(N_sto)]"
   ]
  },
  {
   "cell_type": "markdown",
   "metadata": {},
   "source": [
    "# Let's allocate a grocerie store for each house "
   ]
  },
  {
   "cell_type": "markdown",
   "metadata": {},
   "source": [
    "### I am begging you, do not reinvent the wheel..."
   ]
  },
  {
   "cell_type": "code",
   "execution_count": 35,
   "metadata": {},
   "outputs": [],
   "source": [
    "distance, indexes = spatial.KDTree(geo_sto).query(geo_hou)"
   ]
  },
  {
   "cell_type": "code",
   "execution_count": 36,
   "metadata": {},
   "outputs": [],
   "source": [
    "# House -> Grocerie store\n",
    "all_hou_sto = dict(zip(range(N_hou), indexes))"
   ]
  },
  {
   "cell_type": "code",
   "execution_count": null,
   "metadata": {},
   "outputs": [],
   "source": []
  },
  {
   "cell_type": "code",
   "execution_count": 37,
   "metadata": {},
   "outputs": [],
   "source": [
    "# Grocerie store -> List of House\n",
    "all_sto_hou = {}\n",
    "for k, v in all_hou_sto.items():\n",
    "    all_sto_hou[v] = all_sto_hou.get(v, [])\n",
    "    all_sto_hou[v].append(k)"
   ]
  },
  {
   "cell_type": "code",
   "execution_count": 38,
   "metadata": {},
   "outputs": [],
   "source": [
    "# Grocerie store -> List of Adults\n",
    "all_sto_adu = {}\n",
    "for k, v in all_hou_sto.items():\n",
    "    all_sto_adu[v] = all_sto_adu.get(v, [])\n",
    "    all_sto_adu[v].append(k)"
   ]
  },
  {
   "cell_type": "code",
   "execution_count": 39,
   "metadata": {},
   "outputs": [
    {
     "data": {
      "text/markdown": [
       "There are 3.48 individuals per house for a total of 287 houses"
      ],
      "text/plain": [
       "<IPython.core.display.Markdown object>"
      ]
     },
     "execution_count": 39,
     "metadata": {},
     "output_type": "execute_result"
    }
   ],
   "source": [
    "md(\"There are %.2f individuals per house for a total of %d houses\"%(\n",
    "    pd.Series(all_ind_hou).value_counts().mean(), N_hou))"
   ]
  },
  {
   "cell_type": "code",
   "execution_count": null,
   "metadata": {},
   "outputs": [],
   "source": []
  },
  {
   "cell_type": "code",
   "execution_count": null,
   "metadata": {},
   "outputs": [],
   "source": []
  },
  {
   "cell_type": "markdown",
   "metadata": {},
   "source": [
    "# Let's finally choose a workplace for every individual"
   ]
  },
  {
   "cell_type": "markdown",
   "metadata": {},
   "source": [
    "### Let's assume we have 44% of TPE, 42% of PME and 14% of GE in Morocco\n",
    "Source : https://fnh.ma/article/actualite-economique/les-tpme-representent-93-des-entreprises-marocaines-en-2019"
   ]
  },
  {
   "cell_type": "code",
   "execution_count": 40,
   "metadata": {},
   "outputs": [],
   "source": [
    "def pickWorkSize():\n",
    "    p = getR()\n",
    "    if p < 0.44:\n",
    "        # We picked a TPE\n",
    "        return int(1 + (TPE_MAX_EMPLOYEES-1)*getR())\n",
    "    elif p < 0.86:\n",
    "        # We picked a PME\n",
    "        return int(TPE_MAX_EMPLOYEES + (PME_MAX_EMPLOYEES-TPE_MAX_EMPLOYEES)*getR())\n",
    "    else:\n",
    "        # We picked a PME\n",
    "        return int(PME_MAX_EMPLOYEES + (GE_MAX_EMPLOYEES-PME_MAX_EMPLOYEES)*getR())"
   ]
  },
  {
   "cell_type": "code",
   "execution_count": null,
   "metadata": {},
   "outputs": [],
   "source": []
  },
  {
   "cell_type": "code",
   "execution_count": 41,
   "metadata": {},
   "outputs": [],
   "source": [
    "# Only adults work, and only half of them\n",
    "workers = list([i for i in range(N) if getR() <0.5 and all_ind_adu[i]==1])\n",
    "rand.shuffle(workers)\n",
    "all_ind_wor = {}\n",
    "i_ind = 0\n",
    "i_wor = 0\n",
    "while len(workers) > 0:\n",
    "    for j in range(pickWorkSize()):\n",
    "        if len(workers) == 0:\n",
    "            break\n",
    "        ind = workers.pop()\n",
    "        all_ind_wor[ind] = i_wor\n",
    "    i_wor = i_wor + 1"
   ]
  },
  {
   "cell_type": "code",
   "execution_count": 42,
   "metadata": {},
   "outputs": [],
   "source": [
    "# workplace -> Individuals\n",
    "all_wor_ind = {}\n",
    "for k, v in all_ind_wor.items():\n",
    "    all_wor_ind[v] = all_wor_ind.get(v, [])\n",
    "    all_wor_ind[v].append(k)"
   ]
  },
  {
   "cell_type": "code",
   "execution_count": 43,
   "metadata": {},
   "outputs": [],
   "source": [
    "N_wor = max(all_ind_wor.values()) # We set here the number of workplaces"
   ]
  },
  {
   "cell_type": "code",
   "execution_count": 44,
   "metadata": {},
   "outputs": [
    {
     "data": {
      "text/markdown": [
       "There are 28 workplaces in total"
      ],
      "text/plain": [
       "<IPython.core.display.Markdown object>"
      ]
     },
     "execution_count": 44,
     "metadata": {},
     "output_type": "execute_result"
    }
   ],
   "source": [
    "md(\"There are %i workplaces in total\"%(max(all_ind_wor.values())))"
   ]
  },
  {
   "cell_type": "code",
   "execution_count": 45,
   "metadata": {},
   "outputs": [
    {
     "data": {
      "text/markdown": [
       "The 6th workplace has 49 workers!!"
      ],
      "text/plain": [
       "<IPython.core.display.Markdown object>"
      ]
     },
     "execution_count": 45,
     "metadata": {},
     "output_type": "execute_result"
    }
   ],
   "source": [
    "md(\"The %ith workplace has %i workers!!\"%(\n",
    "    pd.Series(all_ind_wor).value_counts().index[0], \n",
    "    pd.Series(all_ind_wor).value_counts().values[0]))"
   ]
  },
  {
   "cell_type": "code",
   "execution_count": null,
   "metadata": {},
   "outputs": [],
   "source": []
  },
  {
   "cell_type": "code",
   "execution_count": null,
   "metadata": {},
   "outputs": [],
   "source": []
  },
  {
   "cell_type": "markdown",
   "metadata": {},
   "source": [
    "### We set a geolocation point for every house and grocerie store"
   ]
  },
  {
   "cell_type": "code",
   "execution_count": 46,
   "metadata": {},
   "outputs": [],
   "source": [
    "geo_wor = [ (getR2(), getR2()) for i in range(N_wor)]"
   ]
  },
  {
   "cell_type": "code",
   "execution_count": null,
   "metadata": {},
   "outputs": [],
   "source": []
  },
  {
   "cell_type": "markdown",
   "metadata": {},
   "source": [
    "# Ok so let's summarize all we've got before going to COVID simulation"
   ]
  },
  {
   "cell_type": "code",
   "execution_count": 47,
   "metadata": {},
   "outputs": [
    {
     "data": {
      "text/markdown": [
       "The are 1000 individuals"
      ],
      "text/plain": [
       "<IPython.core.display.Markdown object>"
      ]
     },
     "execution_count": 47,
     "metadata": {},
     "output_type": "execute_result"
    }
   ],
   "source": [
    "md(\"The are %i individuals\"%(N))"
   ]
  },
  {
   "cell_type": "code",
   "execution_count": 48,
   "metadata": {},
   "outputs": [
    {
     "data": {
      "text/markdown": [
       "The are 287 houses"
      ],
      "text/plain": [
       "<IPython.core.display.Markdown object>"
      ]
     },
     "execution_count": 48,
     "metadata": {},
     "output_type": "execute_result"
    }
   ],
   "source": [
    "md(\"The are %i houses\"%(N_hou))"
   ]
  },
  {
   "cell_type": "code",
   "execution_count": 49,
   "metadata": {},
   "outputs": [
    {
     "data": {
      "text/markdown": [
       "The are 14 grocerie stores"
      ],
      "text/plain": [
       "<IPython.core.display.Markdown object>"
      ]
     },
     "execution_count": 49,
     "metadata": {},
     "output_type": "execute_result"
    }
   ],
   "source": [
    "md(\"The are %i grocerie stores\"%(N_sto))"
   ]
  },
  {
   "cell_type": "code",
   "execution_count": 50,
   "metadata": {},
   "outputs": [
    {
     "data": {
      "text/markdown": [
       "The are 28 workplaces"
      ],
      "text/plain": [
       "<IPython.core.display.Markdown object>"
      ]
     },
     "execution_count": 50,
     "metadata": {},
     "output_type": "execute_result"
    }
   ],
   "source": [
    "md(\"The are %i workplaces\"%(N_wor))"
   ]
  },
  {
   "cell_type": "code",
   "execution_count": 51,
   "metadata": {},
   "outputs": [
    {
     "data": {
      "text/markdown": [
       "Each individual has an age (which will be helpful later). Example: \n",
       " \n",
       "Person 154 is 30 years old \n",
       "\n",
       "Person 99 is 3 years old etc..."
      ],
      "text/plain": [
       "<IPython.core.display.Markdown object>"
      ]
     },
     "execution_count": 51,
     "metadata": {},
     "output_type": "execute_result"
    }
   ],
   "source": [
    "md(\"\"\"Each individual has an age (which will be helpful later). Example: \\n \n",
    "Person %i is %i years old \\n\n",
    "Person %i is %i years old etc...\"\"\"%(154, all_ind_age[154], 99, all_ind_age[99]))"
   ]
  },
  {
   "cell_type": "code",
   "execution_count": 52,
   "metadata": {},
   "outputs": [
    {
     "data": {
      "text/markdown": [
       "Each individual is linked to a house. Example: \n",
       " \n",
       "Person 17 lives in house 4 \n",
       "\n",
       "Person 23 lives in house 5 etc..."
      ],
      "text/plain": [
       "<IPython.core.display.Markdown object>"
      ]
     },
     "execution_count": 52,
     "metadata": {},
     "output_type": "execute_result"
    }
   ],
   "source": [
    "md(\"\"\"Each individual is linked to a house. Example: \\n \n",
    "Person %i lives in house %i \\n\n",
    "Person %i lives in house %i etc...\"\"\"%(17, all_ind_hou[17], 23, all_ind_hou[23]))"
   ]
  },
  {
   "cell_type": "code",
   "execution_count": 53,
   "metadata": {},
   "outputs": [
    {
     "data": {
      "text/markdown": [
       "Each individual works at a company. Example: \n",
       " \n",
       "Person 221 works at company 0 \n",
       "\n",
       "Person 170 works at company 0 etc..."
      ],
      "text/plain": [
       "<IPython.core.display.Markdown object>"
      ]
     },
     "execution_count": 53,
     "metadata": {},
     "output_type": "execute_result"
    }
   ],
   "source": [
    "md(\"\"\"Each individual works at a company. Example: \\n \n",
    "Person %i works at company %i \\n\n",
    "Person %i works at company %i etc...\"\"\"%(\n",
    "    list(all_ind_wor.keys())[3], all_ind_wor[list(all_ind_wor.keys())[3]], \n",
    "    list(all_ind_wor.keys())[7], all_ind_wor[list(all_ind_wor.keys())[7]]))"
   ]
  },
  {
   "cell_type": "code",
   "execution_count": 54,
   "metadata": {},
   "outputs": [
    {
     "data": {
      "text/markdown": [
       "Each house is linked to a grocerie store. Example: \n",
       " \n",
       "House 11 is near store 5 \n",
       "\n",
       "House 27 is near store 10 etc..."
      ],
      "text/plain": [
       "<IPython.core.display.Markdown object>"
      ]
     },
     "execution_count": 54,
     "metadata": {},
     "output_type": "execute_result"
    }
   ],
   "source": [
    "md(\"\"\"Each house is linked to a grocerie store. Example: \\n \n",
    "House %i is near store %i \\n\n",
    "House %i is near store %i etc...\"\"\"%(11, all_hou_sto[11], 27, all_hou_sto[27]))"
   ]
  },
  {
   "cell_type": "code",
   "execution_count": null,
   "metadata": {},
   "outputs": [],
   "source": []
  },
  {
   "cell_type": "code",
   "execution_count": null,
   "metadata": {},
   "outputs": [],
   "source": []
  },
  {
   "cell_type": "markdown",
   "metadata": {},
   "source": [
    "# Ok, let's visualize all this mess"
   ]
  },
  {
   "cell_type": "markdown",
   "metadata": {},
   "source": [
    "## Bubble sizes are the sum of individual (or houses) related to it"
   ]
  },
  {
   "cell_type": "code",
   "execution_count": 55,
   "metadata": {},
   "outputs": [
    {
     "data": {
      "image/png": "[encoded data removed]",
      "text/plain": [
       "<Figure size 1080x1080 with 1 Axes>"
      ]
     },
     "metadata": {
      "needs_background": "light"
     },
     "output_type": "display_data"
    }
   ],
   "source": [
    "fig, ax = plt.subplots(figsize=(15, 15))\n",
    "colors = ['tab:blue', 'tab:orange', 'tab:green']\n",
    "    \n",
    "scale_houses = 50*pd.Series(all_ind_hou).value_counts().sort_index().values # Size of each house\n",
    "scale_workplaces = 50*pd.Series(all_ind_wor).value_counts().sort_index().values # Size of each house\n",
    "scale_stores = 50*pd.Series(all_hou_sto).value_counts().sort_index().values # Size of each house\n",
    "\n",
    "ax.scatter(np.array(geo_hou)[:,0], np.array(geo_hou)[:,1], c=colors[0], s=scale_houses, label=\"Foyers\", \n",
    "           alpha=0.5, edgecolors='none')\n",
    "ax.scatter(np.array(geo_wor)[:,0], np.array(geo_wor)[:,1], c=colors[1], s=scale_workplaces, label=\"Lieux de travail\", \n",
    "           alpha=0.5, edgecolors='none')\n",
    "ax.scatter(np.array(geo_sto)[:,0], np.array(geo_sto)[:,1], c=colors[2], s=scale_stores, label=\"Epiceries\", \n",
    "           alpha=0.5, edgecolors='none')\n",
    "\n",
    "ax.legend()\n",
    "ax.grid(True)\n",
    "\n",
    "plt.show()"
   ]
  },
  {
   "cell_type": "code",
   "execution_count": null,
   "metadata": {},
   "outputs": [],
   "source": []
  },
  {
   "cell_type": "code",
   "execution_count": null,
   "metadata": {},
   "outputs": [],
   "source": []
  },
  {
   "cell_type": "markdown",
   "metadata": {},
   "source": [
    "# Propagation functions"
   ]
  },
  {
   "cell_type": "markdown",
   "metadata": {},
   "source": [
    "## Infection at home"
   ]
  },
  {
   "cell_type": "code",
   "execution_count": 76,
   "metadata": {},
   "outputs": [],
   "source": [
    "def propagateToHouses(map_individuals_houses, map_houses_individuals, infection_state, contagion_state):\n",
    "    # Houses that contain an infected and contagious person\n",
    "    infected_houses = [map_individuals_houses[i] for i in getInfectedPeople(infection_state) \n",
    "                       if isContagious(i, contagion_state)]\n",
    "    if DISPLAY:\n",
    "        display(md(\"Which gives us %i infected different houses\"%(len(infected_houses))))\n",
    "    \n",
    "    # People infected (not necessarily contagious) from a contagious person living in their house\n",
    "    infected_athome = [i for i in flatten([map_houses_individuals[hou] for hou in infected_houses])\n",
    "                            if getR() < PROB_INFECTION_AT_HOME]\n",
    "    \n",
    "    # INFECTION STATE UPDATE\n",
    "    updateInfectionPeriod(infected_athome, infection_state, contagion_state)\n",
    "    if DISPLAY:\n",
    "        display(md(\"Ending at the morning with %i infected individuals\"%(len(getInfectedPeople(infection_state)))))"
   ]
  },
  {
   "cell_type": "code",
   "execution_count": 77,
   "metadata": {},
   "outputs": [],
   "source": [
    "def propagateToWorkplaces(map_individual_workers, map_workplace_individual, infection_state, contagion_state):\n",
    "    # Contagious people who will go to work\n",
    "    infected_gotowork = [i for i in getInfectedPeople(infection_state) if i in map_individual_workers.keys() \n",
    "                         and isContagious(i, contagion_state)]\n",
    "    if DISPLAY:\n",
    "        display(md(\"%i infected people go to work\"%(len(infected_gotowork))))\n",
    "        \n",
    "    # Infected workplaces\n",
    "    infected_workplaces = [map_individual_workers[ind] for ind in infected_gotowork]\n",
    "    if DISPLAY:\n",
    "        display(md(\"%i different work places are thus infected\"%(len(infected_workplaces)))) \n",
    "    infected_backfromwork = [i for i in flatten([map_workplace_individual[k] for k in infected_workplaces]) \n",
    "                             if getR() < PROB_INFECTION_AT_WORK]\n",
    "    \n",
    "    # INFECTION STATE UPDATE\n",
    "    updateInfectionPeriod(infected_backfromwork, infection_state, contagion_state)\n",
    "    if DISPLAY:\n",
    "        display(md(\"Ending at the morning with %i infected individuals\"%(len(getInfectedPeople(infection_state)))))"
   ]
  },
  {
   "cell_type": "code",
   "execution_count": 78,
   "metadata": {},
   "outputs": [],
   "source": [
    "def propagateToGroStores(map_individuals_houses, map_houses_stores, map_stores_houses, map_houses_adults, \n",
    "                         infection_state, contagion_state):\n",
    "    # Filter on living people because we have a random choice to make in each house\n",
    "    # People who will go to their store (one person per house as imposed by lockdown)\n",
    "    individuals_gotostore = [rand.choice([i for i in map_houses_adults[h] if infection_state[i] != DEAD_STATE])  \n",
    "                             for h in range(len(map_houses_adults))]\n",
    "    if DISPLAY:\n",
    "        display(md(\"In each house, a random adult goes to the store, which gives us %i individuals leaving\"\n",
    "               %(len(individuals_gotostore))))\n",
    "    \n",
    "    # Contagious people who will go to their store\n",
    "    individuals_infected_gotostore = [i for i in individuals_gotostore if isContagious(i, contagion_state)]\n",
    "    if DISPLAY:\n",
    "        display(md(\"From which %i individuals are infected\"%(len(individuals_infected_gotostore))))\n",
    "    \n",
    "    # Stores that will be visited by a contagious person\n",
    "    infected_stores = [map_houses_stores[map_individuals_houses[i]] for i in individuals_infected_gotostore]\n",
    "    if DISPLAY:\n",
    "        display(md(\"%i grocerie stores are infected\"%(len(infected_stores))))\n",
    "    \n",
    "    # People who live in a house that goes to a contagious store\n",
    "    individuals_attachedto_infected_store = flatten(flatten(\n",
    "        [[map_houses_adults[h] for h in map_stores_houses[s]] for s in infected_stores]))\n",
    "    \n",
    "    # People who did go to that contagious store\n",
    "    individuals_goto_infected_store = list(set(individuals_attachedto_infected_store)\n",
    "                                           .intersection(set(individuals_gotostore)))\n",
    "    if DISPLAY:\n",
    "        display(md(\"%i individuals went to an infected store\"%(len(individuals_goto_infected_store))))\n",
    "    \n",
    "    # People who got infected from going to their store\n",
    "    infected_backfromstore = [i for i in individuals_goto_infected_store if getR() < PROB_INFECTION_AT_STORE]\n",
    "    \n",
    "    # INFECTION STATE UPDATE\n",
    "    updateInfectionPeriod(infected_backfromstore, infection_state, contagion_state)\n",
    "    if DISPLAY:\n",
    "        display(md(\"Ending at the morning with %i infected individuals\"%(len(getInfectedPeople(infection_state)))))"
   ]
  },
  {
   "cell_type": "code",
   "execution_count": null,
   "metadata": {},
   "outputs": [],
   "source": []
  },
  {
   "cell_type": "markdown",
   "metadata": {},
   "source": [
    "# Let's innoculate 1% of the population the COVID-19 and start"
   ]
  },
  {
   "cell_type": "code",
   "execution_count": 86,
   "metadata": {},
   "outputs": [],
   "source": [
    "inn_ind_cov = dict(zip(range(N), [int(getR() <= 0.005) for i in range(N)]))"
   ]
  },
  {
   "cell_type": "code",
   "execution_count": 87,
   "metadata": {},
   "outputs": [],
   "source": [
    "# Infection dictionnary initialization\n",
    "all_ind_inf = dict(zip(range(N), [-1]*N))\n",
    "all_ind_con = dict(zip(range(N), [-1]*N))\n",
    "ind_infected_init = [k for k,v in inn_ind_cov.items() if v==1]\n",
    "\n",
    "for ind in ind_infected_init:\n",
    "    # Incubation period between 2 and 14 days\n",
    "    incubation, contagiosity = getInfectionParameters()\n",
    "    all_ind_inf[ind] = incubation\n",
    "    all_ind_con[ind] = contagiosity"
   ]
  },
  {
   "cell_type": "code",
   "execution_count": 88,
   "metadata": {},
   "outputs": [],
   "source": [
    "living_infected_individuals_at_20pm = ind_infected_init"
   ]
  },
  {
   "cell_type": "code",
   "execution_count": 89,
   "metadata": {
    "scrolled": true
   },
   "outputs": [
    {
     "data": {
      "text/markdown": [
       "We start our cycle with 2 infected individuals"
      ],
      "text/plain": [
       "<IPython.core.display.Markdown object>"
      ]
     },
     "metadata": {},
     "output_type": "display_data"
    }
   ],
   "source": [
    "display(md(\"We start our cycle with %i infected individuals\"%(len(getInfectedPeople(all_ind_inf)))))"
   ]
  },
  {
   "cell_type": "markdown",
   "metadata": {},
   "source": [
    "# Let's start the infection cycle"
   ]
  },
  {
   "cell_type": "code",
   "execution_count": 90,
   "metadata": {},
   "outputs": [],
   "source": [
    "N_days = 100"
   ]
  },
  {
   "cell_type": "code",
   "execution_count": 91,
   "metadata": {},
   "outputs": [
    {
     "data": {
      "text/plain": [
       "287"
      ]
     },
     "execution_count": 91,
     "metadata": {},
     "output_type": "execute_result"
    }
   ],
   "source": [
    "len(all_hou_adu)"
   ]
  },
  {
   "cell_type": "code",
   "execution_count": 92,
   "metadata": {},
   "outputs": [],
   "source": [
    "stats = []\n",
    "for _ in range(N_days):\n",
    "    # INFECTION AT HOME\n",
    "    propagateToHouses(all_ind_hou, all_hou_ind, all_ind_inf, all_ind_con)\n",
    "    propagateToWorkplaces(all_ind_wor, all_wor_ind, all_ind_inf, all_ind_con)\n",
    "    propagateToGroStores(all_ind_hou, all_hou_sto, all_sto_hou, all_hou_adu, all_ind_inf, all_ind_con)\n",
    "    incrementInfectionDay(all_ind_inf, all_ind_age, all_ind_con)\n",
    "    stats.append((len(getHealthyPeople(all_ind_inf)), \n",
    "                  len(getInfectedPeople(all_ind_inf)), \n",
    "                  len(getDeadPeople(all_ind_inf)),\n",
    "                  len(getImmunePeople(all_ind_inf))))"
   ]
  },
  {
   "cell_type": "code",
   "execution_count": null,
   "metadata": {},
   "outputs": [],
   "source": []
  },
  {
   "cell_type": "code",
   "execution_count": null,
   "metadata": {},
   "outputs": [],
   "source": []
  },
  {
   "cell_type": "code",
   "execution_count": 93,
   "metadata": {},
   "outputs": [
    {
     "data": {
      "image/png": "[encoded data removed]",
      "text/plain": [
       "<Figure size 1080x720 with 1 Axes>"
      ]
     },
     "metadata": {
      "needs_background": "light"
     },
     "output_type": "display_data"
    }
   ],
   "source": [
    "fig, ax = plt.subplots(figsize=(15, 10))\n",
    "\n",
    "healthySerie = [stats[i][0] for i in range(N_days)]\n",
    "\n",
    "infectedSerie = [stats[i][1] for i in range(N_days)]\n",
    "\n",
    "deadSerie = [stats[i][2] for i in range(N_days)]\n",
    "deadSerieStack = [stats[i][0] + stats[i][1] for i in range(N_days)]\n",
    "\n",
    "immuneSerie = [stats[i][3] for i in range(N_days)]\n",
    "immuneSerieStack = [stats[i][0] + stats[i][1] + stats[i][2] for i in range(N_days)]\n",
    "\n",
    "ind = np.arange(N_days)\n",
    "width = 0.6\n",
    "\n",
    "p1 = plt.bar(ind, healthySerie, width, color=\"#3F88C5\")\n",
    "p2 = plt.bar(ind, infectedSerie, width, bottom=healthySerie, color=\"#A63D40\")\n",
    "p3 = plt.bar(ind, deadSerie, width, bottom=deadSerieStack, color=\"#151515\")\n",
    "p4 = plt.bar(ind, immuneSerie, width, bottom=immuneSerieStack, color=\"#90A959\")\n",
    "\n",
    "plt.ylabel('Population')\n",
    "plt.title('Pandemic evolution')\n",
    "plt.xticks(np.arange(0, N_days, int(N_days/10)), tuple([('Day ' + str(10*i)) for i in range(int(N_days/10))]))\n",
    "plt.yticks(np.arange(0, N, 100))\n",
    "plt.legend((p1[0], p2[0], p3[0], p4[0]), ('Healthy', 'Infected', 'Dead', 'Immune'))\n",
    "\n",
    "plt.show()"
   ]
  },
  {
   "cell_type": "code",
   "execution_count": null,
   "metadata": {},
   "outputs": [],
   "source": []
  },
  {
   "cell_type": "code",
   "execution_count": null,
   "metadata": {},
   "outputs": [],
   "source": []
  }
 ],
 "metadata": {
  "kernelspec": {
   "display_name": "Python 3",
   "language": "python",
   "name": "python3"
  },
  "language_info": {
   "codemirror_mode": {
    "name": "ipython",
    "version": 3
   },
   "file_extension": ".py",
   "mimetype": "text/x-python",
   "name": "python",
   "nbconvert_exporter": "python",
   "pygments_lexer": "ipython3",
   "version": "3.6.9"
  }
 },
 "nbformat": 4,
 "nbformat_minor": 2
}
